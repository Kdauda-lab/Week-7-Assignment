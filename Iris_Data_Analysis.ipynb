{
 "cells": [
  {
   "cell_type": "code",
   "execution_count": null,
   "id": "30a40ab9",
   "metadata": {},
   "outputs": [],
   "source": [
    "import pandas as pd\n",
    "import matplotlib.pyplot as plt\n",
    "import seaborn as sns\n",
    "from sklearn.datasets import load_iris\n",
    "\n",
    "# Load dataset\n",
    "try:\n",
    "    iris_data = load_iris(as_frame=True)\n",
    "    df = iris_data.frame\n",
    "    print(\"Dataset loaded successfully.\")\n",
    "except Exception as e:\n",
    "    print(\"Error loading dataset:\", e)\n"
   ]
  },
  {
   "cell_type": "code",
   "execution_count": null,
   "id": "27e36c08",
   "metadata": {},
   "outputs": [],
   "source": [
    "# Display first 5 rows\n",
    "df.head()\n"
   ]
  },
  {
   "cell_type": "code",
   "execution_count": null,
   "id": "a750932c",
   "metadata": {},
   "outputs": [],
   "source": [
    "# Check the structure of the dataset\n",
    "df.info()\n"
   ]
  },
  {
   "cell_type": "code",
   "execution_count": null,
   "id": "5959124f",
   "metadata": {},
   "outputs": [],
   "source": [
    "# Check for missing values\n",
    "df.isnull().sum()\n"
   ]
  },
  {
   "cell_type": "code",
   "execution_count": null,
   "id": "39cfd582",
   "metadata": {},
   "outputs": [],
   "source": [
    "# Clean the dataset (no missing values in Iris, but here’s how you’d handle them)\n",
    "df_cleaned = df.dropna()\n"
   ]
  },
  {
   "cell_type": "code",
   "execution_count": null,
   "id": "20efdfd3",
   "metadata": {},
   "outputs": [],
   "source": [
    "# Basic statistics of numerical columns\n",
    "df_cleaned.describe()\n"
   ]
  },
  {
   "cell_type": "code",
   "execution_count": null,
   "id": "9da805aa",
   "metadata": {},
   "outputs": [],
   "source": [
    "# Add species names and group\n",
    "df_cleaned['species'] = df_cleaned['target'].apply(lambda x: iris_data.target_names[x])\n",
    "df_cleaned.groupby('species').mean()\n"
   ]
  },
  {
   "cell_type": "code",
   "execution_count": null,
   "id": "42a70d78",
   "metadata": {},
   "outputs": [],
   "source": [
    "# Line chart of sepal and petal length\n",
    "plt.figure(figsize=(10, 5))\n",
    "plt.plot(df_cleaned.index, df_cleaned['sepal length (cm)'], label='Sepal Length')\n",
    "plt.plot(df_cleaned.index, df_cleaned['petal length (cm)'], label='Petal Length')\n",
    "plt.title(\"Sepal and Petal Length Trend Over Samples\")\n",
    "plt.xlabel(\"Sample Index\")\n",
    "plt.ylabel(\"Length (cm)\")\n",
    "plt.legend()\n",
    "plt.grid(True)\n",
    "plt.show()\n"
   ]
  },
  {
   "cell_type": "code",
   "execution_count": null,
   "id": "b80f2a68",
   "metadata": {},
   "outputs": [],
   "source": [
    "# Bar chart: Average petal length by species\n",
    "avg_petal_length = df_cleaned.groupby('species')['petal length (cm)'].mean()\n",
    "avg_petal_length.plot(kind='bar', color='skyblue')\n",
    "plt.title(\"Average Petal Length by Species\")\n",
    "plt.ylabel(\"Petal Length (cm)\")\n",
    "plt.xlabel(\"Species\")\n",
    "plt.show()\n"
   ]
  },
  {
   "cell_type": "code",
   "execution_count": null,
   "id": "391e9b3d",
   "metadata": {},
   "outputs": [],
   "source": [
    "# Histogram of sepal width\n",
    "plt.hist(df_cleaned['sepal width (cm)'], bins=10, color='salmon', edgecolor='black')\n",
    "plt.title(\"Distribution of Sepal Width\")\n",
    "plt.xlabel(\"Sepal Width (cm)\")\n",
    "plt.ylabel(\"Frequency\")\n",
    "plt.show()\n"
   ]
  },
  {
   "cell_type": "code",
   "execution_count": null,
   "id": "6ec50251",
   "metadata": {},
   "outputs": [],
   "source": [
    "# Scatter plot: Sepal length vs. petal length\n",
    "sns.scatterplot(data=df_cleaned, x='sepal length (cm)', y='petal length (cm)', hue='species')\n",
    "plt.title(\"Sepal Length vs. Petal Length\")\n",
    "plt.xlabel(\"Sepal Length (cm)\")\n",
    "plt.ylabel(\"Petal Length (cm)\")\n",
    "plt.legend()\n",
    "plt.grid(True)\n",
    "plt.show()\n"
   ]
  },
  {
   "cell_type": "markdown",
   "id": "a56e07be",
   "metadata": {},
   "source": [
    "### Final Observations\n",
    "- The dataset is clean with no missing values.\n",
    "- Setosa has distinct petal length and width, making it easy to separate.\n",
    "- Petal dimensions are more discriminative than sepal dimensions for species classification.\n",
    "- Visualizations reveal clear clustering, suitable for machine learning.\n"
   ]
  }
 ],
 "metadata": {},
 "nbformat": 4,
 "nbformat_minor": 5
}
